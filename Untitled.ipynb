{
 "cells": [
  {
   "cell_type": "code",
   "execution_count": 45,
   "metadata": {},
   "outputs": [
    {
     "name": "stdout",
     "output_type": "stream",
     "text": [
      "name :  Alice\n",
      "email :  alice@example.com\n",
      "grades :  [('math', 91), ('english', 78), ('math', 90), ('history', 34), ('math', 95)]\n",
      "name :  Bob\n",
      "email :  bob@example.com\n",
      "grades :  [('math', 85), ('english', 92), ('history', 75)]\n",
      "name :  Charlie\n",
      "email :  charlie@example.com\n",
      "grades :  [('physics', 78), ('english', 81), ('english', 89), ('history', 68), ('english', 82), ('physics', 91)]\n",
      "name :  chaya\n",
      "email :  ch654@jk.com\n",
      "grades :  []\n"
     ]
    }
   ],
   "source": [
    "classroom = [\n",
    "    {\n",
    "        'name': 'Alice',\n",
    "        'email': 'alice@example.com',\n",
    "        'grades': [\n",
    "            ('math', 91),\n",
    "            ('english', 78),\n",
    "            ('math', 90),\n",
    "            ('history', 34),\n",
    "            ('math', 95),\n",
    "        ],\n",
    "    },\n",
    "    {\n",
    "        'name': 'Bob',\n",
    "        'email': 'bob@example.com',\n",
    "        'grades': [\n",
    "            ('math', 85),\n",
    "            ('english', 92),\n",
    "            ('history', 75),\n",
    "        ],\n",
    "    },\n",
    "    {\n",
    "        'name': 'Charlie',\n",
    "        'email': 'charlie@example.com',\n",
    "        'grades': [\n",
    "            ('physics', 78),\n",
    "            ('english', 81),\n",
    "            ('english', 89),\n",
    "            ('history', 68),\n",
    "            ('english', 82),\n",
    "            ('physics', 91),\n",
    "        ],\n",
    "    },\n",
    "]\n",
    "\n",
    "\n",
    "def add_student(name, email=None):\n",
    "    if(email==None):\n",
    "        lowName=\"\"\n",
    "        for s in name:\n",
    "            lowName+=s.lower()\n",
    "        email=lowName+'@example.com'\n",
    "    classroom.append({'name':name,'email':email,'grades':[]})\n",
    "    \n",
    "\n",
    "add_student(\"chaya\",\"ch654@jk.com\")\n",
    "\n",
    "for student in classroom:\n",
    "    for key,value in student.items():\n",
    "        print(key,': ',value)\n"
   ]
  }
 ],
 "metadata": {
  "kernelspec": {
   "display_name": "Python 3",
   "language": "python",
   "name": "python3"
  },
  "language_info": {
   "codemirror_mode": {
    "name": "ipython",
    "version": 3
   },
   "file_extension": ".py",
   "mimetype": "text/x-python",
   "name": "python",
   "nbconvert_exporter": "python",
   "pygments_lexer": "ipython3",
   "version": "3.12.0"
  }
 },
 "nbformat": 4,
 "nbformat_minor": 5
}
